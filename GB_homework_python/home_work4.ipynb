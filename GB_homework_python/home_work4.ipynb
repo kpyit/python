{
 "cells": [
  {
   "cell_type": "markdown",
   "metadata": {},
   "source": [
    "## 4 домашнее задание\n"
   ]
  },
  {
   "cell_type": "code",
   "execution_count": 72,
   "metadata": {},
   "outputs": [
    {
     "name": "stdout",
     "output_type": "stream",
     "text": [
      "путь к интреперетатору c:\\Users\\pk\\AppData\\Local\\Programs\\Python\\Python310\\python.exe\n"
     ]
    }
   ],
   "source": [
    "import sys\n",
    "print(f\"путь к интреперетатору {sys.executable}\")"
   ]
  },
  {
   "cell_type": "markdown",
   "metadata": {},
   "source": [
    "### 1 Вычислить число c заданной точностью d\n",
    "    Пример:\n",
    "- при $d = 0.001, π = 3.141.$    $10^{-1} ≤ d ≤10^{-10}$"
   ]
  },
  {
   "cell_type": "code",
   "execution_count": 8,
   "metadata": {},
   "outputs": [
    {
     "name": "stdout",
     "output_type": "stream",
     "text": [
      "список введенных чисел = [1, 2, 3, 4, 5, 6, 7, 8]\n",
      " нечетное число 1\n",
      " нечетное число 3\n",
      " нечетное число 5\n",
      " нечетное число 7\n",
      "сумма нечетных чисел = 16\n"
     ]
    }
   ],
   "source": [
    "def calc_pi() -> int:\n",
    "    val:int = 0\n",
    "    try:\n",
    "        val = int(input(input_label))\n",
    "    except EOFError:\n",
    "        print(r'Прервано пользователем EOF')\n",
    "    except KeyboardInterrupt:\n",
    "        print(r'Вы отменили операцию.')\n",
    "    except ValueError:\n",
    "        print(r'отсутствует либо некорректный ввод.')\n",
    "    else:\n",
    "        k = 1\n",
    "        x = 0\n",
    "        for k in range(4, 1):\n",
    "            x = x+4*((-1)**(k+1))/(2*k-1)\n",
    "        print(x)\n",
    "\n",
    "\n",
    "\n",
    "def summ_odd_numbers() ->None:\n",
    "    user_numbers_list:int = []\n",
    "    sum_odd_numbers:int = 0\n",
    "    #\n",
    "    count_numbers = input_int(r'Введите количество элементов: ')\n",
    "    for i in range(0, count_numbers):\n",
    "        number = input_int()\n",
    "        user_numbers_list.append(number)\n",
    "\n",
    "    print(f'список введенных чисел = {user_numbers_list}')\n",
    "\n",
    "    for i in range(0,count_numbers,2):\n",
    "        print(f' нечетное число {user_numbers_list[i]}')\n",
    "        sum_odd_numbers += user_numbers_list[i]\n",
    "\n",
    "    print(f'сумма нечетных чисел = {sum_odd_numbers}')\n",
    "\n",
    "summ_odd_numbers()"
   ]
  },
  {
   "cell_type": "markdown",
   "metadata": {},
   "source": [
    "\n",
    "### 2 Напишите программу, которая найдёт произведение пар чисел списка. Парой считаем первый и последний элемент, второй и предпоследний и т.д.\n",
    "\n",
    "    Пример:\n",
    "\n",
    "- [2, 3, 4, 5, 6] => [12, 15, 16];\n",
    "- [2, 3, 5, 6] => [12, 15]"
   ]
  },
  {
   "cell_type": "code",
   "execution_count": 27,
   "metadata": {},
   "outputs": [
    {
     "name": "stdout",
     "output_type": "stream",
     "text": [
      "последовательно введите указанное количество чисел\n",
      "[1.0, 2.0, 3.0, 4.0, 5.0] => [5.0, 8.0, 9.0]\n"
     ]
    }
   ],
   "source": [
    "import math\n",
    "\n",
    "def input_float(input_label:str = r'') -> float:\n",
    "    val:float = 0\n",
    "    try:\n",
    "        val = float(input(input_label))\n",
    "    except EOFError:\n",
    "        print(r'Прервано пользователем EOF')\n",
    "    except KeyboardInterrupt:\n",
    "        print(r'Вы отменили операцию.')\n",
    "    except ValueError:\n",
    "        print(r'отсутствует либо некорректный ввод.')\n",
    "    else:\n",
    "        return val\n",
    "\n",
    "\n",
    "def mult_numbers_convergence() -> None:\n",
    "    user_numbers_list:float = []\n",
    "    numbers_mult_list:float = []\n",
    "    #\n",
    "    count_numbers:int = input_int(r'Введите количество элементов списка: ')\n",
    "    print(r'последовательно введите указанное количество чисел')\n",
    "    for i in range(0, count_numbers):\n",
    "        number = input_float()\n",
    "        user_numbers_list.append(number)\n",
    "\n",
    "    half_list_index = math.ceil(count_numbers/2)\n",
    "    # print(f\"half_list_index {half_list_index}\")\n",
    "\n",
    "    for i in range(0,half_list_index):\n",
    "        # print(f\"i {user_numbers_list[i]} -i {user_numbers_list[half_list_index-i+1]} \")\n",
    "        numbers_mult_list.append(user_numbers_list[half_list_index-i+1]*user_numbers_list[i])\n",
    "\n",
    "    print(f\"{user_numbers_list} => {numbers_mult_list}\")    \n",
    "\n",
    "mult_numbers_convergence()"
   ]
  },
  {
   "cell_type": "markdown",
   "metadata": {},
   "source": [
    "### 3 Задайте список из вещественных чисел. Напишите программу, которая найдёт разницу между максимальным и минимальным значением дробной части элементов.\n",
    "\n",
    "    Пример:\n",
    "\n",
    "- [1.1, 1.2, 3.1, 5, 10.01] => 0.19\n",
    "!В примере по идее должно быть 0.2  но добавил костыль в логику чтобы проходило с float"
   ]
  },
  {
   "cell_type": "code",
   "execution_count": 32,
   "metadata": {},
   "outputs": [
    {
     "name": "stdout",
     "output_type": "stream",
     "text": [
      "[1.1, 1.2, 3.1, 5, 10.01] => 0.19\n"
     ]
    }
   ],
   "source": [
    "def input_float(input_label: str = r'') -> float:\n",
    "    val: float = 0\n",
    "    try:\n",
    "        val = float(input(input_label))\n",
    "    except EOFError:\n",
    "        print(r'Прервано пользователем EOF')\n",
    "    except KeyboardInterrupt:\n",
    "        print(r'Вы отменили операцию.')\n",
    "    except ValueError:\n",
    "        print(r'отсутствует либо некорректный ввод.')\n",
    "    else:\n",
    "        return val\n",
    "\n",
    "\n",
    "def diff_min_max_fractional(user_numbers_list: float = []) -> None:\n",
    "    fractional_min: float = 1\n",
    "    fractional_max: float = 0\n",
    "\n",
    "    if not user_numbers_list:\n",
    "        count_numbers: int = input_int(\n",
    "            r'Введите количество элементов списка вещественных чисел: ')\n",
    "        print(r'последовательно введите указанное количество чисел')\n",
    "        for i in range(0, count_numbers):\n",
    "            number = input_float()\n",
    "            user_numbers_list.append(number)\n",
    "\n",
    "    for i in range(0, len(user_numbers_list)):\n",
    "        fractional_part = user_numbers_list[i]%1\n",
    "        if fractional_min > fractional_part and fractional_part > 0.00000001: # или sys.float_info.min\n",
    "            fractional_min = fractional_part\n",
    "        if fractional_max < fractional_part:\n",
    "            fractional_max = fractional_part\n",
    "\n",
    "    # print(f'{fractional_max} {(fractional_min):1.2f}')\n",
    "    print(f'{user_numbers_list} => {(fractional_max-fractional_min):1.2f}')\n",
    "\n",
    "\n",
    "diff_min_max_fractional([1.1, 1.2, 3.1, 5, 10.01])\n"
   ]
  },
  {
   "cell_type": "markdown",
   "metadata": {},
   "source": [
    "\n",
    "### 4 Напишите программу, которая будет преобразовывать десятичное число в двоичное.\n",
    "\n",
    "    Пример:\n",
    "\n",
    "- 45 -> 101101\n",
    "- 3 -> 11\n",
    "- 2 -> 10\n",
    "\n"
   ]
  },
  {
   "cell_type": "code",
   "execution_count": 48,
   "metadata": {},
   "outputs": [
    {
     "name": "stdout",
     "output_type": "stream",
     "text": [
      "42 => 0101010\n"
     ]
    }
   ],
   "source": [
    "def decimal_to_binary_quck() -> None:\n",
    "    number = int(input('Введите число для преобразования: '))\n",
    "    print(f\"{number} => {number:b}\")\n",
    "\n",
    "# decimal_to_binary_quck()\n",
    "\n",
    "\n",
    "def decimal_to_binary(number: int) -> None:\n",
    "    buf_number = number\n",
    "    binary_represent = ''\n",
    "\n",
    "    while number > 0:\n",
    "        if number % 2 == 0:\n",
    "            binary_represent = '0' + binary_represent\n",
    "        else:\n",
    "            binary_represent = '1' + binary_represent\n",
    "        number //= 2\n",
    "        \n",
    "    binary_represent = '0' + binary_represent\n",
    "    print(f'{buf_number} => {binary_represent}')\n",
    "\n",
    "\n",
    "decimal_to_binary(42)\n",
    "\n"
   ]
  },
  {
   "cell_type": "markdown",
   "metadata": {},
   "source": [
    "### 5 Даны два файла, в каждом из которых находится запись многочлена. Задача - сформировать файл, содержащий сумму многочленов.\n",
    "\n",
    "Класс может суммировать любое количество полиномов с членами имеющими положительные/отрицательные степени \n",
    "в регулярки заложена возможность обрабатывать полиномы с множеством переменных(a,x,y...), можно легко дополнить функционал."
   ]
  },
  {
   "cell_type": "code",
   "execution_count": 217,
   "metadata": {},
   "outputs": [
    {
     "name": "stdout",
     "output_type": "stream",
     "text": [
      "обрабатываемый полином -1+1-14x**32+11x**32-x**17+2+41x**12+3x-2x-x-1+1.2x**-3+23=0\n",
      "промежуточные степени {'32': -3.0, '17': -1.0, '12': 41.0, '-3': 1.2, '1': 0.0, '0': 24.0}\n",
      "обрабатываемый полином x**16-23x**12+12x+1.2x**3+x**17-17-8.2x**-3+100500=0\n",
      "промежуточные степени {'32': -3.0, '17': 0.0, '12': 18.0, '-3': -6.999999999999999, '1': 12.0, '0': 100507.0, '16': 1.0, '3': 1.2}\n",
      "Полученная сумма многочленов  -3.0x**32 + 18.0x**12 -7.0x**-3 + 12.0x + 100507.0 + 1.0x**16 + 1.2x**3 = 0\n"
     ]
    }
   ],
   "source": [
    "import re\n",
    "import math\n",
    "\n",
    "\n",
    "# polynomial_a = r\"-1+1-14x**32 +11x**32-x**17+2 +41x**12 + 3x-2x-x -1 + 1.2x**-3+23=0\"\n",
    "# polynomial_b = r\"x**16 - 23x**12 + 12x + 1.2x**3 +x**17 - 17 -8.2x**-3=0\"\n",
    "\n",
    "class polynomials_summ:\n",
    "\n",
    "\n",
    "\n",
    "    def __init__(self):\n",
    "        self.dictionary_pow = {}\n",
    "        self.polynomial_a = r\"-1+1=0\"\n",
    "        self.polynomial_b = r\"x**16-3=0\"\n",
    "\n",
    "    def load_polynomials_from_files(self)-> None:\n",
    "        with open('polynomial_a.txt') as f:\n",
    "            line = f.readline()\n",
    "            if len(line) != 0:\n",
    "                self.polynomial_a = line;\n",
    "            else:\n",
    "                print('ошибка чтения файла polynomial_a.txt')\n",
    "        with open('polynomial_b.txt') as f:\n",
    "            line = f.readline()\n",
    "            if len(line) != 0:\n",
    "                self.polynomial_b = line;\n",
    "            else:\n",
    "                print('ошибка чтения файла polynomial_b.txt')\n",
    " \n",
    "\n",
    "    def add_polynomials_to_sum(self, polynomial: str) -> None:\n",
    "\n",
    "        # self.dictionary_pow = {}\n",
    "        polynomial = polynomial.replace(\" \", \"\")\n",
    "\n",
    "        matches_pow_from_2 = re.findall(\n",
    "            '[+-]?[\\d\\.]*[a-zA-Z]\\*\\*[-]?[\\d\\.]+', polynomial)\n",
    "        matches_pow_1 = re.findall('([+-]?[\\d\\.]*[a-zA-Z](?!\\*))', polynomial)\n",
    "        # не может начинатся с ** вначале строки или есть +-обязательно  после только +-=\n",
    "        matches_pow_0 = re.findall(\n",
    "            '(?<!\\*\\*)(?:\\A|[+-]{1})[\\d\\.]+(?=[-+=])', polynomial)\n",
    "\n",
    "        print(f\"обрабатываемый полином {polynomial}\")\n",
    "        # print(matches_pow_from_2)\n",
    "        # print(matches_pow_1)\n",
    "        # print(matches_pow_0)\n",
    "\n",
    "        pattern_pow_from_2 = r'[a-zA-Z]\\*\\*'\n",
    "        for match in matches_pow_from_2:\n",
    "            val, pow = re.split(pattern_pow_from_2, match)\n",
    "            if val == '-' or val == '+' or val == '':\n",
    "                val += '1'\n",
    "            # print(f'val = {val}, pow = {pow}')\n",
    "            if pow in self.dictionary_pow:\n",
    "                self.dictionary_pow[pow] += (float(val))\n",
    "            else:\n",
    "                self.dictionary_pow[pow] = float(val)\n",
    "\n",
    "        pattern_pow_1 = r'[a-zA-Z]'\n",
    "        for match in matches_pow_1:\n",
    "            val, pow = re.split(pattern_pow_1, match)\n",
    "            if val == '-' or val == '+' or val == '':\n",
    "                val += '1'\n",
    "            # print(f'val = {val}, pow = {pow}')\n",
    "            if '1' in self.dictionary_pow:\n",
    "                self.dictionary_pow['1'] += (float(val))\n",
    "            else:\n",
    "                self.dictionary_pow['1'] = float(val)\n",
    "\n",
    "        # 0 степень\n",
    "        for match in matches_pow_0:\n",
    "            # print(f'float(val) = {float(match)}')\n",
    "            if '0' in self.dictionary_pow:\n",
    "                self.dictionary_pow['0'] += (float(match))\n",
    "            else:\n",
    "                self.dictionary_pow['0'] = float(match)\n",
    "\n",
    "        print(f\"промежуточные степени {self.dictionary_pow}\")\n",
    "\n",
    "\n",
    "    def out_summ_polynomials(self) -> str:\n",
    "\n",
    "        polynomial_str = ''\n",
    "        for pow, value in self.dictionary_pow.items():\n",
    "            # print(pow, value)\n",
    "            match pow:\n",
    "                case \"0\":\n",
    "                    if(value > 0):\n",
    "                        polynomial_str += ' + '+\"{:2.1f}\".format(value)\n",
    "                    elif not math.isclose(value, 0.0, abs_tol=0.00001):\n",
    "                        polynomial_str += \" {:2.1f}\".format(value)\n",
    "                case \"1\":\n",
    "                    if(value > 0):\n",
    "                        polynomial_str += ' + '+\"{:2.1f}\".format(value)+'x'\n",
    "                    elif not math.isclose(value, 0.0, abs_tol=0.00001):\n",
    "                        polynomial_str += \" {:2.1f}\".format(value)+'x'\n",
    "                case _:\n",
    "                    if(value > 0):\n",
    "                        polynomial_str += ' + ' + \\\n",
    "                            \"{:2.1f}\".format(value)+'x**'+pow\n",
    "                    elif not math.isclose(value, 0.0, abs_tol=0.00001):\n",
    "                        polynomial_str += \" {:2.1f}\".format(value)+'x**'+pow\n",
    "\n",
    "        polynomial_str += ' = 0'\n",
    "\n",
    "        return polynomial_str\n",
    "\n",
    "\n",
    "summ = polynomials_summ()\n",
    "summ.load_polynomials_from_files()\n",
    "summ.add_polynomials_to_sum(summ.polynomial_a)\n",
    "summ.add_polynomials_to_sum(summ.polynomial_b)\n",
    "\n",
    "print(f\"Полученная сумма многочленов {summ.out_summ_polynomials()}\")\n"
   ]
  }
 ],
 "metadata": {
  "kernelspec": {
   "display_name": "Python 3.10.5 64-bit",
   "language": "python",
   "name": "python3"
  },
  "language_info": {
   "codemirror_mode": {
    "name": "ipython",
    "version": 3
   },
   "file_extension": ".py",
   "mimetype": "text/x-python",
   "name": "python",
   "nbconvert_exporter": "python",
   "pygments_lexer": "ipython3",
   "version": "3.10.5"
  },
  "vscode": {
   "interpreter": {
    "hash": "a0ce28f3ef38682e8a1390214c6896df953be5abd81752542b33dc651d4a069c"
   }
  }
 },
 "nbformat": 4,
 "nbformat_minor": 2
}
