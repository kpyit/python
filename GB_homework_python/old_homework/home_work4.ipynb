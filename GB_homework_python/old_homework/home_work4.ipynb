{
 "cells": [
  {
   "cell_type": "markdown",
   "metadata": {},
   "source": [
    "## 4 домашнее задание\n"
   ]
  },
  {
   "cell_type": "code",
   "execution_count": 72,
   "metadata": {},
   "outputs": [
    {
     "name": "stdout",
     "output_type": "stream",
     "text": [
      "путь к интреперетатору c:\\Users\\pk\\AppData\\Local\\Programs\\Python\\Python310\\python.exe\n"
     ]
    }
   ],
   "source": [
    "import sys\n",
    "print(f\"путь к интреперетатору {sys.executable}\")"
   ]
  },
  {
   "cell_type": "markdown",
   "metadata": {},
   "source": [
    "### 1 Вычислить число Пи c заданной точностью d\n",
    "    Пример:\n",
    "- при $d = 0.001, π = 3.141.$    $10^{-1} ≤ d ≤10^{-10}$"
   ]
  },
  {
   "cell_type": "code",
   "execution_count": 141,
   "metadata": {},
   "outputs": [
    {
     "name": "stdout",
     "output_type": "stream",
     "text": [
      "Вы ввели границу расчета точности 0.0000001\n",
      "Число знаков после запятой  7\n",
      "вычисленный Пи 3.1415927 \n"
     ]
    }
   ],
   "source": [
    "import re\n",
    "\n",
    "\n",
    "def calc_pi() -> None:\n",
    "    input_presizion: str\n",
    "    try:\n",
    "        input_presizion = input('Введите точность расчета Пи(пр 0.0001):')\n",
    "        print(f\"Вы ввели границу расчета точности {input_presizion}\")\n",
    "    except EOFError:\n",
    "        print(r'Прервано пользователем EOF')\n",
    "    except KeyboardInterrupt:\n",
    "        print(r'Вы отменили операцию.')\n",
    "    except ValueError:\n",
    "        print(r'отсутствует либо некорректный ввод.')\n",
    "    else:\n",
    "        if re.match(r'^-?\\d+(?:\\.\\d+)$', input_presizion) is None:\n",
    "            print(\"ошибка ввдите число с плавающей запятой\")\n",
    "        else:\n",
    "            dot_index = input_presizion.index('.')\n",
    "            print(\n",
    "                f\"Число знаков после запятой  {input_presizion[dot_index+1:].__len__()}\")\n",
    "            presizion_len = input_presizion[dot_index+1:].__len__()\n",
    "            presizion = float(input_presizion)\n",
    "\n",
    "            k = 1\n",
    "            x = 0\n",
    "            caclculated_pi = 0\n",
    "\n",
    "            presizion_getted = False\n",
    "            while not presizion_getted:\n",
    "                x = x+4*((-1)**(k+1))/(2*k-1)\n",
    "                upper_estimate = x\n",
    "                k += 1\n",
    "                x = x+4*((-1)**(k+1))/(2*k-1)\n",
    "                k += 1\n",
    "                # print(f\"upper_estimate-x = {(upper_estimate-x)}\")\n",
    "                if(upper_estimate-x < presizion):\n",
    "                    presizion_getted = True\n",
    "                    caclculated_pi = (upper_estimate+x)/2\n",
    "\n",
    "            print(f\"вычисленный Пи {round(caclculated_pi,presizion_len)} \")\n",
    "\n",
    "\n",
    "calc_pi()\n"
   ]
  },
  {
   "cell_type": "markdown",
   "metadata": {},
   "source": [
    "\n",
    "2 Задайте натуральное число N. Напишите программу, которая составит список простых множителей числа N.\n"
   ]
  },
  {
   "cell_type": "code",
   "execution_count": 46,
   "metadata": {},
   "outputs": [
    {
     "name": "stdout",
     "output_type": "stream",
     "text": [
      " простые множетели числа 63 - [3, 3, 7]\n"
     ]
    }
   ],
   "source": [
    "def find_prime_factors(number):\n",
    "    i = 2  # минимальное простое число\n",
    "    prime_factors = []\n",
    "    while i * i <= number:\n",
    "        while number % i == 0:\n",
    "            prime_factors.append(i)\n",
    "            number = number // i  # разбиваем остаток\n",
    "        i = i + 1\n",
    "    if number > 1:\n",
    "        prime_factors.append(number)\n",
    "    return prime_factors\n",
    "\n",
    "\n",
    "def input_int(input_label: str = r'') -> int:\n",
    "    val: int = 0\n",
    "    try:\n",
    "        val = int(input(input_label))\n",
    "    except EOFError:\n",
    "        print(r'Прервано пользователем EOF')\n",
    "    except KeyboardInterrupt:\n",
    "        print(r'Вы отменили операцию.')\n",
    "    except ValueError:\n",
    "        print(r'отсутствует либо некорректный ввод.')\n",
    "    else:\n",
    "        return val\n",
    "\n",
    "\n",
    "number = input_int('Введите число для разложение на простые множетели')\n",
    "print(f\" простые множетели числа {number} - {find_prime_factors(number)}\")\n"
   ]
  },
  {
   "cell_type": "markdown",
   "metadata": {},
   "source": [
    "### 3 Задайте последовательность чисел. Напишите программу, которая выведет список неповторяющихся элементов исходной последовательности."
   ]
  },
  {
   "cell_type": "code",
   "execution_count": 140,
   "metadata": {},
   "outputs": [
    {
     "name": "stdout",
     "output_type": "stream",
     "text": [
      "Заданный спислк - [1.1, 4, 1.1, 1.2, 4, 5, 6, 7, 'ef', 'eefa', 'wa', 'wa']\n",
      "Cписок повторяющихся элементов - [1.2, 5, 6, 7, 'ef', 'eefa']\n"
     ]
    }
   ],
   "source": [
    "from collections import Counter\n",
    "\n",
    "\n",
    "def input_int(input_label: str = r'') -> int:\n",
    "    val: int = 0\n",
    "    try:\n",
    "        val = int(input(input_label))\n",
    "    except EOFError:\n",
    "        print(r'Прервано пользователем EOF')\n",
    "    except KeyboardInterrupt:\n",
    "        print(r'Вы отменили операцию.')\n",
    "    except ValueError:\n",
    "        print(r'отсутствует либо некорректный ввод.')\n",
    "    else:\n",
    "        return val\n",
    "\n",
    "\n",
    "def find_list_unic_elements(user_list: float = []) -> None:\n",
    "    fractional_min: float = 1\n",
    "    fractional_max: float = 0\n",
    "\n",
    "    if not user_list:\n",
    "        count_numbers: int = input_int(\n",
    "            r'Введите количество элементов списка вещественных чисел: ')\n",
    "        print(r'последовательно введите указанное количество чисел')\n",
    "        for i in range(0, count_numbers):\n",
    "            user_list.append(input())\n",
    "\n",
    "    print(f'Заданный спислк - {user_list}')\n",
    "    # так-же это можно сделать через словарь но это красивее\n",
    "    non_unic_elements = [element for element,\n",
    "                         amount in Counter(user_list).items() if amount == 1]\n",
    "\n",
    "    print(f\"Cписок повторяющихся элементов - {non_unic_elements}\")\n",
    "\n",
    "\n",
    "find_list_unic_elements(\n",
    "    [1.1, 4, 1.1, 1.2, 4, 5, 6, 7, 'ef', 'eefa', 'wa', 'wa'])\n"
   ]
  },
  {
   "cell_type": "markdown",
   "metadata": {},
   "source": [
    "### 4 Задана натуральная степень k. Сформировать случайным образом список коэффициентов (значения от 0 до 100) многочлена и записать в файл многочлен степени k.\n",
    "    Пример:\n",
    "- k=2 => 2*x² + 4*x + 5 = 0 или x² + 5 = 0 или 10*x² = 0"
   ]
  },
  {
   "cell_type": "code",
   "execution_count": 48,
   "metadata": {},
   "outputs": [
    {
     "name": "stdout",
     "output_type": "stream",
     "text": [
      "42 => 0101010\n"
     ]
    }
   ],
   "source": [
    "\n",
    "\n",
    "#ДОБАВИЛ В 5 ЗАДАНИЕ ЧТОБЫ НЕ ПЛОДИТЬ СУЩНОСТИ\n",
    "\n"
   ]
  },
  {
   "cell_type": "markdown",
   "metadata": {},
   "source": [
    "### 5 Даны два файла, в каждом из которых находится запись многочлена. Задача - сформировать файл, содержащий сумму многочленов.\n",
    "\n",
    "Класс может суммировать любое количество полиномов с членами имеющими положительные/отрицательные степени \n",
    "в регулярки заложена возможность обрабатывать полиномы с множеством переменных(a,x,y...), можно легко дополнить функционал."
   ]
  },
  {
   "cell_type": "code",
   "execution_count": 147,
   "metadata": {},
   "outputs": [
    {
     "name": "stdout",
     "output_type": "stream",
     "text": [
      "обрабатываемый полином -1+1+14x**32+11x**32-x**17+2+41x**12+3x-2x-x-1+1.2x**-3+23=0\n",
      "промежуточные степени {'32': 25.0, '17': -1.0, '12': 41.0, '-3': 1.2, '1': 0.0, '0': 24.0}\n",
      "обрабатываемый полином x**16+23x**12+12x+1.2x**3+x**17-17-8.2x**-3-100500=0\n",
      "промежуточные степени {'32': 25.0, '17': 0.0, '12': 64.0, '-3': -6.999999999999999, '1': 12.0, '0': -100493.0, '16': 1.0, '3': 1.2}\n",
      "Полученная сумма многочленов  25.0x**32 + 64.0x**12 -7.0x**-3 + 12.0x -100493.0 + 1.0x**16 + 1.2x**3 = 0\n",
      "{'5': 73, '4': 98, '3': 92, '2': 40, '1': 16, '0': 73}\n",
      "случайный полином  73.0x**5 + 98.0x**4 + 92.0x**3 + 40.0x**2 + 16.0x + 73.0 = 0\n"
     ]
    }
   ],
   "source": [
    "import re\n",
    "import math\n",
    "import random\n",
    "\n",
    "# polynomial_a = r\"-1+1-14x**32 +11x**32-x**17+2 +41x**12 + 3x-2x-x -1 + 1.2x**-3+23=0\"\n",
    "# polynomial_b = r\"x**16 - 23x**12 + 12x + 1.2x**3 +x**17 - 17 -8.2x**-3=0\"\n",
    "\n",
    "\n",
    "class polynomials_summ:\n",
    "\n",
    "    def __init__(self):\n",
    "        self.dictionary_pow = {}\n",
    "        self.polynomial_a = r\"-1+1=0\"\n",
    "        self.polynomial_b = r\"x**16-3=0\"\n",
    "        self.random_polynomial = {}\n",
    "\n",
    "    def load_polynomials_from_files(self) -> None:\n",
    "        with open('polynomial_a.txt') as f:\n",
    "            line = f.readline()\n",
    "            if len(line) != 0:\n",
    "                self.polynomial_a = line\n",
    "            else:\n",
    "                print('ошибка чтения файла polynomial_a.txt')\n",
    "        with open('polynomial_b.txt') as f:\n",
    "            line = f.readline()\n",
    "            if len(line) != 0:\n",
    "                self.polynomial_b = line\n",
    "            else:\n",
    "                print('ошибка чтения файла polynomial_b.txt')\n",
    "\n",
    "    def gen_polynomial(self, k: int = 2) -> None:\n",
    "        for i in range(k+1, -1, -1):\n",
    "            self.random_polynomial.update({str(i): random.randrange(0, 100)})\n",
    "        print(self.random_polynomial)\n",
    "\n",
    "    def save_polynomial(self, polynomial: str,  file_name: str) -> None:\n",
    "        with open(file_name, 'w') as f:\n",
    "            f.write(polynomial + '\\n')\n",
    "\n",
    "    def add_polynomials_to_sum(self, polynomial: str) -> None:\n",
    "\n",
    "        # self.dictionary_pow = {}\n",
    "        polynomial = polynomial.replace(\" \", \"\")\n",
    "\n",
    "        matches_pow_from_2 = re.findall('[+-]?[\\d\\.]*[a-zA-Z]\\*\\*[-]?[\\d\\.]+', polynomial)\n",
    "        \n",
    "        matches_pow_1 = re.findall('([+-]?[\\d\\.]*[a-zA-Z](?!\\*))', polynomial)\n",
    "        # не может начинатся с ** вначале строки или есть +-обязательно  после только +-=\n",
    "        matches_pow_0 = re.findall(\n",
    "            '(?<!\\*\\*)(?:\\A|[+-]{1})[\\d\\.]+(?=[-+=])', polynomial)\n",
    "\n",
    "        print(f\"обрабатываемый полином {polynomial}\")\n",
    "        # print(matches_pow_from_2)\n",
    "        # print(matches_pow_1)\n",
    "        # print(matches_pow_0)\n",
    "\n",
    "        pattern_pow_from_2 = r'[a-zA-Z]\\*\\*'\n",
    "        for match in matches_pow_from_2:\n",
    "            val, pow = re.split(pattern_pow_from_2, match)\n",
    "            if val == '-' or val == '+' or val == '':\n",
    "                val += '1'\n",
    "            # print(f'val = {val}, pow = {pow}')\n",
    "            if pow in self.dictionary_pow:\n",
    "                self.dictionary_pow[pow] += (float(val))\n",
    "            else:\n",
    "                self.dictionary_pow[pow] = float(val)\n",
    "\n",
    "        pattern_pow_1 = r'[a-zA-Z]'\n",
    "        for match in matches_pow_1:\n",
    "            val, pow = re.split(pattern_pow_1, match)\n",
    "            if val == '-' or val == '+' or val == '':\n",
    "                val += '1'\n",
    "            # print(f'val = {val}, pow = {pow}')\n",
    "            if '1' in self.dictionary_pow:\n",
    "                self.dictionary_pow['1'] += (float(val))\n",
    "            else:\n",
    "                self.dictionary_pow['1'] = float(val)\n",
    "\n",
    "        # 0 степень\n",
    "        for match in matches_pow_0:\n",
    "            # print(f'float(val) = {float(match)}')\n",
    "            if '0' in self.dictionary_pow:\n",
    "                self.dictionary_pow['0'] += (float(match))\n",
    "            else:\n",
    "                self.dictionary_pow['0'] = float(match)\n",
    "\n",
    "        print(f\"промежуточные степени {self.dictionary_pow}\")\n",
    "        \n",
    "\n",
    "\n",
    "    def out_polynomial(self, polynomial: dict = []) -> str:\n",
    "\n",
    "        polynomial_str = ''\n",
    "        if polynomial:\n",
    "            output_polinomial = polynomial\n",
    "        else:\n",
    "            output_polinomial = self.dictionary_pow\n",
    "\n",
    "        for pow, value in output_polinomial.items():\n",
    "            # print(pow, value)\n",
    "            match pow:\n",
    "                case \"0\":\n",
    "                    if(value > 0):\n",
    "                        polynomial_str += ' + '+\"{:2.1f}\".format(value)\n",
    "                    elif not math.isclose(value, 0.0, abs_tol=0.00001):\n",
    "                        polynomial_str += \" {:2.1f}\".format(value)\n",
    "                case \"1\":\n",
    "                    if(value > 0):\n",
    "                        polynomial_str += ' + '+\"{:2.1f}\".format(value)+'x'\n",
    "                    elif not math.isclose(value, 0.0, abs_tol=0.00001):\n",
    "                        polynomial_str += \" {:2.1f}\".format(value)+'x'\n",
    "                case _:\n",
    "                    if(value > 0):\n",
    "                        polynomial_str += ' + ' + \\\n",
    "                            \"{:2.1f}\".format(value)+'x**'+pow\n",
    "                    elif not math.isclose(value, 0.0, abs_tol=0.00001):\n",
    "                        polynomial_str += \" {:2.1f}\".format(value)+'x**'+pow\n",
    "\n",
    "        polynomial_str = re.sub(r'\\A\\s*\\+', '', polynomial_str)\n",
    "        polynomial_str += ' = 0'\n",
    "\n",
    "        return polynomial_str\n",
    "\n",
    "\n",
    "summ = polynomials_summ()\n",
    "\n",
    "summ.load_polynomials_from_files()\n",
    "summ.add_polynomials_to_sum(summ.polynomial_a)\n",
    "summ.add_polynomials_to_sum(summ.polynomial_b)\n",
    "\n",
    "print(f\"Полученная сумма многочленов {summ.out_polynomial()}\")\n",
    "summ.save_polynomial(summ.out_polynomial(), 'polynomial_summ.txt')\n",
    "\n",
    "summ.gen_polynomial(4)\n",
    "print(f\"случайный полином {summ.out_polynomial(summ.random_polynomial)}\")\n",
    "summ.save_polynomial(summ.out_polynomial(summ.random_polynomial), 'polynomial.txt')\n"
   ]
  }
 ],
 "metadata": {
  "kernelspec": {
   "display_name": "Python 3.10.5 64-bit",
   "language": "python",
   "name": "python3"
  },
  "language_info": {
   "codemirror_mode": {
    "name": "ipython",
    "version": 3
   },
   "file_extension": ".py",
   "mimetype": "text/x-python",
   "name": "python",
   "nbconvert_exporter": "python",
   "pygments_lexer": "ipython3",
   "version": "3.10.5"
  },
  "vscode": {
   "interpreter": {
    "hash": "a0ce28f3ef38682e8a1390214c6896df953be5abd81752542b33dc651d4a069c"
   }
  }
 },
 "nbformat": 4,
 "nbformat_minor": 2
}
