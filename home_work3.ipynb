{
 "cells": [
  {
   "cell_type": "markdown",
   "metadata": {},
   "source": [
    "## 3 домашнее задание\n"
   ]
  },
  {
   "cell_type": "code",
   "execution_count": 1,
   "metadata": {},
   "outputs": [
    {
     "name": "stdout",
     "output_type": "stream",
     "text": [
      "c:\\Users\\pk\\anaconda3\\envs\\tensor\\python.exe\n",
      "1\n"
     ]
    }
   ],
   "source": [
    "import sys\n",
    "print(\"путь к интреперетатору {sys.executable}\")\n",
    "\n"
   ]
  },
  {
   "cell_type": "markdown",
   "metadata": {},
   "source": [
    "### 1 Задайте список из нескольких чисел. Напишите программу, которая найдёт сумму элементов списка, стоящих на нечётной позиции.\n",
    "\n",
    "    Пример:\n",
    "\n",
    "- [2, 3, 5, 9, 3] -> на нечётных позициях элементы 3 и 9, ответ: 12"
   ]
  },
  {
   "cell_type": "code",
   "execution_count": 8,
   "metadata": {},
   "outputs": [
    {
     "name": "stdout",
     "output_type": "stream",
     "text": [
      "список введенных чисел = [1, 2, 3, 4, 5, 6, 7, 8]\n",
      " нечетное число 1\n",
      " нечетное число 3\n",
      " нечетное число 5\n",
      " нечетное число 7\n",
      "сумма нечетных чисел = 16\n"
     ]
    }
   ],
   "source": [
    "def input_int(input_label:str = r'') -> int:\n",
    "    val:int = 0\n",
    "    try:\n",
    "        val = int(input(input_label))\n",
    "    except EOFError:\n",
    "        print(r'Прервано пользователем EOF')\n",
    "    except KeyboardInterrupt:\n",
    "        print(r'Вы отменили операцию.')\n",
    "    except ValueError:\n",
    "        print(r'отсутствует либо некорректный ввод.')\n",
    "    else:\n",
    "        return val\n",
    "\n",
    "\n",
    "def summ_odd_numbers() ->None:\n",
    "    user_numbers_list:int = []\n",
    "    sum_odd_numbers:int = 0\n",
    "    #\n",
    "    count_numbers = input_int(r'Введите количество элементов: ')\n",
    "    for i in range(0, count_numbers):\n",
    "        number = input_int()\n",
    "        user_numbers_list.append(number)\n",
    "\n",
    "    print(f'список введенных чисел = {user_numbers_list}')\n",
    "\n",
    "    for i in range(0,count_numbers,2):\n",
    "        print(f' нечетное число {user_numbers_list[i]}')\n",
    "        sum_odd_numbers += user_numbers_list[i]\n",
    "\n",
    "    print(f'сумма нечетных чисел = {sum_odd_numbers}')\n",
    "\n",
    "summ_odd_numbers()"
   ]
  },
  {
   "cell_type": "markdown",
   "metadata": {},
   "source": [
    "\n",
    "### 2 Напишите программу, которая найдёт произведение пар чисел списка. Парой считаем первый и последний элемент, второй и предпоследний и т.д.\n",
    "\n",
    "    Пример:\n",
    "\n",
    "- [2, 3, 4, 5, 6] => [12, 15, 16];\n",
    "- [2, 3, 5, 6] => [12, 15]"
   ]
  },
  {
   "cell_type": "code",
   "execution_count": 27,
   "metadata": {},
   "outputs": [
    {
     "name": "stdout",
     "output_type": "stream",
     "text": [
      "последовательно введите указанное количество чисел\n",
      "[1.0, 2.0, 3.0, 4.0, 5.0] => [5.0, 8.0, 9.0]\n"
     ]
    }
   ],
   "source": [
    "import math\n",
    "\n",
    "def input_float(input_label:str = r'') -> float:\n",
    "    val:float = 0\n",
    "    try:\n",
    "        val = float(input(input_label))\n",
    "    except EOFError:\n",
    "        print(r'Прервано пользователем EOF')\n",
    "    except KeyboardInterrupt:\n",
    "        print(r'Вы отменили операцию.')\n",
    "    except ValueError:\n",
    "        print(r'отсутствует либо некорректный ввод.')\n",
    "    else:\n",
    "        return val\n",
    "\n",
    "\n",
    "def mult_numbers_convergence() -> None:\n",
    "    user_numbers_list:float = []\n",
    "    numbers_mult_list:float = []\n",
    "    #\n",
    "    count_numbers:int = input_int(r'Введите количество элементов списка: ')\n",
    "    print(r'последовательно введите указанное количество чисел')\n",
    "    for i in range(0, count_numbers):\n",
    "        number = input_float()\n",
    "        user_numbers_list.append(number)\n",
    "\n",
    "    half_list_index = math.ceil(count_numbers/2)\n",
    "    # print(f\"half_list_index {half_list_index}\")\n",
    "\n",
    "    for i in range(0,half_list_index):\n",
    "        # print(f\"i {user_numbers_list[i]} -i {user_numbers_list[half_list_index-i+1]} \")\n",
    "        numbers_mult_list.append(user_numbers_list[half_list_index-i+1]*user_numbers_list[i])\n",
    "\n",
    "    print(f\"{user_numbers_list} => {numbers_mult_list}\")    \n",
    "\n",
    "mult_numbers_convergence()"
   ]
  },
  {
   "cell_type": "markdown",
   "metadata": {},
   "source": [
    "### 3 Задайте список из вещественных чисел. Напишите программу, которая найдёт разницу между максимальным и минимальным значением дробной части элементов.\n",
    "\n",
    "    Пример:\n",
    "\n",
    "- [1.1, 1.2, 3.1, 5, 10.01] => 0.19\n",
    "!В примере по идее должно быть 0.2  но добавил костыль в логику чтобы проходило с float"
   ]
  },
  {
   "cell_type": "code",
   "execution_count": 32,
   "metadata": {},
   "outputs": [
    {
     "name": "stdout",
     "output_type": "stream",
     "text": [
      "[1.1, 1.2, 3.1, 5, 10.01] => 0.19\n"
     ]
    }
   ],
   "source": [
    "def input_float(input_label: str = r'') -> float:\n",
    "    val: float = 0\n",
    "    try:\n",
    "        val = float(input(input_label))\n",
    "    except EOFError:\n",
    "        print(r'Прервано пользователем EOF')\n",
    "    except KeyboardInterrupt:\n",
    "        print(r'Вы отменили операцию.')\n",
    "    except ValueError:\n",
    "        print(r'отсутствует либо некорректный ввод.')\n",
    "    else:\n",
    "        return val\n",
    "\n",
    "\n",
    "def diff_min_max_fractional(user_numbers_list: float = []) -> None:\n",
    "    fractional_min: float = 1\n",
    "    fractional_max: float = 0\n",
    "\n",
    "    if not user_numbers_list:\n",
    "        count_numbers: int = input_int(\n",
    "            r'Введите количество элементов списка вещественных чисел: ')\n",
    "        print(r'последовательно введите указанное количество чисел')\n",
    "        for i in range(0, count_numbers):\n",
    "            number = input_float()\n",
    "            user_numbers_list.append(number)\n",
    "\n",
    "    for i in range(0, len(user_numbers_list)):\n",
    "        fractional_part = user_numbers_list[i]%1\n",
    "        if fractional_min > fractional_part and fractional_part > 0.00000001: # или sys.float_info.min\n",
    "            fractional_min = fractional_part\n",
    "        if fractional_max < fractional_part:\n",
    "            fractional_max = fractional_part\n",
    "\n",
    "    # print(f'{fractional_max} {(fractional_min):1.2f}')\n",
    "    print(f'{user_numbers_list} => {(fractional_max-fractional_min):1.2f}')\n",
    "\n",
    "\n",
    "diff_min_max_fractional([1.1, 1.2, 3.1, 5, 10.01])\n"
   ]
  },
  {
   "cell_type": "markdown",
   "metadata": {},
   "source": [
    "\n",
    "### 4 Напишите программу, которая будет преобразовывать десятичное число в двоичное.\n",
    "\n",
    "    Пример:\n",
    "\n",
    "- 45 -> 101101\n",
    "- 3 -> 11\n",
    "- 2 -> 10\n",
    "\n"
   ]
  },
  {
   "cell_type": "code",
   "execution_count": 48,
   "metadata": {},
   "outputs": [
    {
     "name": "stdout",
     "output_type": "stream",
     "text": [
      "42 => 0101010\n"
     ]
    }
   ],
   "source": [
    "def decimal_to_binary_quck() -> None:\n",
    "    number = int(input('Введите число для преобразования: '))\n",
    "    print(f\"{number} => {number:b}\")\n",
    "\n",
    "# decimal_to_binary_quck()\n",
    "\n",
    "\n",
    "def decimal_to_binary(number: int) -> None:\n",
    "    buf_number = number\n",
    "    binary_represent = ''\n",
    "\n",
    "    while number > 0:\n",
    "        if number % 2 == 0:\n",
    "            binary_represent = '0' + binary_represent\n",
    "        else:\n",
    "            binary_represent = '1' + binary_represent\n",
    "        number //= 2\n",
    "        \n",
    "    binary_represent = '0' + binary_represent\n",
    "    print(f'{buf_number} => {binary_represent}')\n",
    "\n",
    "\n",
    "decimal_to_binary(42)\n",
    "\n"
   ]
  },
  {
   "cell_type": "markdown",
   "metadata": {},
   "source": [
    "### 5 Задайте число. Составьте список чисел Фибоначчи, в том числе для отрицательных индексов.\n",
    "\n",
    "    Пример:\n",
    "\n",
    "- для k = 8 список будет выглядеть так: [-21 ,13, -8, 5, −3, 2, −1, 1, 0, 1, 1, 2, 3, 5, 8, 13, 21] [Негафибоначчи]( https://ru.wikipedia.org/wiki/Негафибоначчи )\n"
   ]
  },
  {
   "cell_type": "code",
   "execution_count": 69,
   "metadata": {},
   "outputs": [
    {
     "name": "stdout",
     "output_type": "stream",
     "text": [
      "для k = 8: [-21, 13, -8, 5, -3, 2, -1, 1, 1, 1, 2, 3, 5, 8, 13, 21]\n"
     ]
    }
   ],
   "source": [
    "\n",
    "# F−1 = 1,\n",
    "# F−2 = -1,\n",
    "# Fn = F(n+2)−F(n+1).\n",
    "\n",
    "def neg_fib(n)-> list:\n",
    "    list_neg_fib = []\n",
    "    a = 0\n",
    "    b = 1\n",
    "    for i in range(n):\n",
    "        a, b = b, a - b\n",
    "        list_neg_fib.append(a)\n",
    "    # print(f'Ряд нег фибоначчи {list_neg_fib}')\n",
    "    return list_neg_fib\n",
    "\n",
    "\n",
    "def fib(n)-> list:\n",
    "    list_fib = []\n",
    "    a = 0\n",
    "    b = 1\n",
    "    for i in range(n):\n",
    "        a, b = b, a + b\n",
    "        list_fib.append(a)\n",
    "    return list_fib\n",
    "\n",
    "\n",
    "def full_fib(k: int = 12):\n",
    "    neg_list = neg_fib(k)\n",
    "    neg_list.reverse()\n",
    "    full_fib_list = neg_list + fib(k)\n",
    "    print(f\"для k = {k}: {full_fib_list}\")\n",
    "\n",
    "\n",
    "full_fib(8)"
   ]
  }
 ],
 "metadata": {
  "kernelspec": {
   "display_name": "Python 3.9.13 64-bit (windows store)",
   "language": "python",
   "name": "python3"
  },
  "language_info": {
   "codemirror_mode": {
    "name": "ipython",
    "version": 3
   },
   "file_extension": ".py",
   "mimetype": "text/x-python",
   "name": "python",
   "nbconvert_exporter": "python",
   "pygments_lexer": "ipython3",
   "version": "3.9.13"
  },
  "vscode": {
   "interpreter": {
    "hash": "d02f0a10e6238878536af3e2e45acd6bbb8e59d239e9623bb68053c0d100810a"
   }
  }
 },
 "nbformat": 4,
 "nbformat_minor": 2
}
